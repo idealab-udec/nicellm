{
 "cells": [
  {
   "cell_type": "code",
   "execution_count": 1,
   "metadata": {},
   "outputs": [],
   "source": [
    "import os\n",
    "\n",
    "os.chdir(\"../\")\n",
    "\n",
    "import nicellm as llm"
   ]
  },
  {
   "cell_type": "code",
   "execution_count": 2,
   "metadata": {},
   "outputs": [],
   "source": [
    "llm.get_response(\n",
    "    model_id=\"gpt-3.5-turbo\",\n",
    "    prompt=\"Who is the best Large Language Model in the world?\",\n",
    "    temperature=0\n",
    ")"
   ]
  },
  {
   "cell_type": "code",
   "execution_count": 3,
   "metadata": {},
   "outputs": [],
   "source": [
    "llm.get_response(\n",
    "    model_id=\"gemini-pro\",\n",
    "    prompt=\"Who is the best Large Language Model in the world?\",\n",
    "    temperature=0\n",
    ")"
   ]
  },
  {
   "cell_type": "code",
   "execution_count": 4,
   "metadata": {},
   "outputs": [
    {
     "data": {
      "text/plain": [
       "'It is subjective to determine who the best large language model in the world is, as it depends on specific use cases, performance metrics, and individual preferences. Some popular large language models include ChatGPT (OpenAI), Bard (Google), and Turing-NLG (Microsoft). Each model has its strengths and weaknesses, and the best one for a particular task may vary. It is essential to evaluate the models based on their specific capabilities and how well they meet the requirements of the intended use case. Additionally, the field of large language models is rapidly evolving, with new models and updates being released regularly.'"
      ]
     },
     "execution_count": 4,
     "metadata": {},
     "output_type": "execute_result"
    }
   ],
   "source": [
    "llm.get_response(\n",
    "    model_id=\"mistral-tiny\",\n",
    "    prompt=\"Who is the best Large Language Model in the world?\",\n",
    "    temperature=0\n",
    ")"
   ]
  },
  {
   "cell_type": "code",
   "execution_count": 5,
   "metadata": {},
   "outputs": [],
   "source": [
    "# llm.list_models(owner=\"google\")"
   ]
  },
  {
   "cell_type": "code",
   "execution_count": 6,
   "metadata": {},
   "outputs": [],
   "source": [
    "# llm.list_models(owner=\"openai\")"
   ]
  },
  {
   "cell_type": "code",
   "execution_count": 7,
   "metadata": {},
   "outputs": [
    {
     "data": {
      "text/plain": [
       "['mistral-medium', 'mistral-small', 'mistral-tiny', 'mistral-embed']"
      ]
     },
     "execution_count": 7,
     "metadata": {},
     "output_type": "execute_result"
    }
   ],
   "source": [
    "llm.list_models(owner=\"mistralai\")"
   ]
  }
 ],
 "metadata": {
  "kernelspec": {
   "display_name": "Python 3",
   "language": "python",
   "name": "python3"
  },
  "language_info": {
   "codemirror_mode": {
    "name": "ipython",
    "version": 3
   },
   "file_extension": ".py",
   "mimetype": "text/x-python",
   "name": "python",
   "nbconvert_exporter": "python",
   "pygments_lexer": "ipython3",
   "version": "3.10.8"
  }
 },
 "nbformat": 4,
 "nbformat_minor": 2
}
